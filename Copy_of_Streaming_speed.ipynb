{
  "nbformat": 4,
  "nbformat_minor": 0,
  "metadata": {
    "colab": {
      "provenance": [],
      "include_colab_link": true
    },
    "kernelspec": {
      "name": "python3",
      "display_name": "Python 3"
    },
    "language_info": {
      "name": "python"
    }
  },
  "cells": [
    {
      "cell_type": "markdown",
      "metadata": {
        "id": "view-in-github",
        "colab_type": "text"
      },
      "source": [
        "<a href=\"https://colab.research.google.com/github/joao-dias-25/final-project-edit/blob/main/Copy_of_Streaming_speed.ipynb\" target=\"_parent\"><img src=\"https://colab.research.google.com/assets/colab-badge.svg\" alt=\"Open In Colab\"/></a>"
      ]
    },
    {
      "cell_type": "markdown",
      "source": [
        "### Aplication in Real Time to Read Carris API - group 1 - TEST\n",
        "\n",
        "> Adicionar aspas\n",
        "\n"
      ],
      "metadata": {
        "id": "mswj15PSFOZO"
      }
    },
    {
      "cell_type": "code",
      "source": [],
      "metadata": {
        "id": "5VlMn69NE4fM"
      },
      "execution_count": null,
      "outputs": []
    },
    {
      "cell_type": "code",
      "execution_count": null,
      "metadata": {
        "colab": {
          "base_uri": "https://localhost:8080/"
        },
        "id": "Nasp9TP3zwaM",
        "outputId": "5f80209e-4bfb-4483-c72f-002f673ece5e"
      },
      "outputs": [
        {
          "output_type": "stream",
          "name": "stdout",
          "text": [
            "Go to the following link in your browser, and complete the sign-in prompts:\n",
            "\n",
            "    https://accounts.google.com/o/oauth2/auth?response_type=code&client_id=764086051850-6qr4p6gpi6hn506pt8ejuq83di341hur.apps.googleusercontent.com&redirect_uri=https%3A%2F%2Fsdk.cloud.google.com%2Fapplicationdefaultauthcode.html&scope=openid+https%3A%2F%2Fwww.googleapis.com%2Fauth%2Fuserinfo.email+https%3A%2F%2Fwww.googleapis.com%2Fauth%2Fcloud-platform+https%3A%2F%2Fwww.googleapis.com%2Fauth%2Fsqlservice.login&state=ZbFQ0v568p6QPtj6i9wvU7svYBbYR3&prompt=consent&token_usage=remote&access_type=offline&code_challenge=0m9bvW5DD_4doSzfoKwvtvTOnkHap_9JexLr8ndAkZE&code_challenge_method=S256\n",
            "\n",
            "Once finished, enter the verification code provided in your browser: 4/0AanRRrspt9s1hl938swqTJ6pgcNPvkuNnGTtAcb1cAeGtF8Y5JJHGBh1Y6yfTN94FVIWTA\n",
            "\n",
            "Credentials saved to file: [/content/.config/application_default_credentials.json]\n",
            "\n",
            "These credentials will be used by any library that requests Application Default Credentials (ADC).\n",
            "\u001b[1;33mWARNING:\u001b[0m \n",
            "Cannot find a quota project to add to ADC. You might receive a \"quota exceeded\" or \"API not enabled\" error. Run $ gcloud auth application-default set-quota-project to add a quota project.\n"
          ]
        }
      ],
      "source": [
        "# autentication to gcloud with login\n",
        "\n",
        "!gcloud auth application-default login"
      ]
    },
    {
      "cell_type": "code",
      "source": [
        "# download connector and save it local\n",
        "\n",
        "!wget https://repo1.maven.org/maven2/com/google/cloud/bigdataoss/gcs-connector/hadoop3-2.2.7/gcs-connector-hadoop3-2.2.7-shaded.jar -P /usr/local/lib/"
      ],
      "metadata": {
        "colab": {
          "base_uri": "https://localhost:8080/"
        },
        "id": "ZSysWUdy0Gxo",
        "outputId": "98e57786-25db-4351-a3a1-72b1ab1bb7b7"
      },
      "execution_count": null,
      "outputs": [
        {
          "output_type": "stream",
          "name": "stdout",
          "text": [
            "--2025-01-18 11:01:34--  https://repo1.maven.org/maven2/com/google/cloud/bigdataoss/gcs-connector/hadoop3-2.2.7/gcs-connector-hadoop3-2.2.7-shaded.jar\n",
            "Resolving repo1.maven.org (repo1.maven.org)... 199.232.192.209, 199.232.196.209, 2a04:4e42:4c::209, ...\n",
            "Connecting to repo1.maven.org (repo1.maven.org)|199.232.192.209|:443... connected.\n",
            "HTTP request sent, awaiting response... 200 OK\n",
            "Length: 33831577 (32M) [application/java-archive]\n",
            "Saving to: ‘/usr/local/lib/gcs-connector-hadoop3-2.2.7-shaded.jar’\n",
            "\n",
            "gcs-connector-hadoo 100%[===================>]  32.26M   134MB/s    in 0.2s    \n",
            "\n",
            "2025-01-18 11:01:35 (134 MB/s) - ‘/usr/local/lib/gcs-connector-hadoop3-2.2.7-shaded.jar’ saved [33831577/33831577]\n",
            "\n"
          ]
        }
      ]
    },
    {
      "cell_type": "code",
      "source": [
        "# import libraries\n",
        "\n",
        "import os\n",
        "from pyspark.sql import SparkSession\n",
        "\n",
        "#spark session\n",
        "spark = SparkSession.builder \\\n",
        "    .appName('GCS_Spark') \\\n",
        "    .config('spark.jars', '/usr/local/lib/gcs-connector-hadoop3-2.2.7-shaded.jar') \\\n",
        "    .config('spark.hadoop.fs.gs.impl', 'com.google.cloud.hadoop.fs.gcs.GoogleHadoopFileSystem') \\\n",
        "    .getOrCreate()\n",
        "\n",
        "# save credentials\n",
        "os.environ[\"GOOGLE_APPLICATION_CREDENTIALS\"] = '/content/.config/application_default_credentials.json'\n",
        "\n",
        "# Config PySpark to access the GCS\n",
        "spark._jsc.hadoopConfiguration().set(\"fs.gs.impl\", \"com.google.cloud.hadoop.fs.gcs.GoogleHadoopFileSystem\")\n",
        "spark._jsc.hadoopConfiguration().set(\"fs.AbstractFileSystem.gs.impl\", \"com.google.cloud.hadoop.fs.gcs.GoogleHadoopFS\")\n",
        "spark._jsc.hadoopConfiguration().set(\"fs.gs.auth.service.account.enable\", \"true\")\n",
        "spark._jsc.hadoopConfiguration().set(\"google.cloud.auth.service.account.json.keyfile\", '/content/.config/application_default_credentials.json')\n"
      ],
      "metadata": {
        "id": "E6bEUtdP0MFV"
      },
      "execution_count": null,
      "outputs": []
    },
    {
      "cell_type": "code",
      "source": [
        "# Try reading a small file or a few records to avoid long processing times.\n",
        "try:\n",
        "  df = spark.read.format(\"json\").load(\"gs://edit-de-project-streaming-data/carris-vehicles/vehicles_1736500532.json\")\n",
        "  df.show(5)  # Display the first 5 rows\n",
        "  print(\"Connection successful!\")\n",
        "except Exception as e:\n",
        "  print(f\"Connection failed: {e}\")"
      ],
      "metadata": {
        "colab": {
          "base_uri": "https://localhost:8080/"
        },
        "id": "jEBLuF420U7w",
        "outputId": "dd38fc28-f12b-4a41-99dc-465483789fff"
      },
      "execution_count": null,
      "outputs": [
        {
          "output_type": "stream",
          "name": "stdout",
          "text": [
            "Connection failed: [PATH_NOT_FOUND] Path does not exist: gs://edit-de-project-streaming-data/carris-vehicles/vehicles_1736500532.json.\n"
          ]
        }
      ]
    },
    {
      "cell_type": "code",
      "source": [],
      "metadata": {
        "id": "OFjl1FNQz0NW"
      },
      "execution_count": null,
      "outputs": []
    },
    {
      "cell_type": "code",
      "source": [
        "from pyspark.sql.types import *\n",
        "\n",
        "# create schema\n",
        "vehicle_schema = StructType([StructField('bearing', IntegerType(), True),\n",
        "                             StructField('block_id', StringType(), True),\n",
        "                             StructField('current_status', StringType(), True),\n",
        "                             StructField('id', StringType(), True),\n",
        "                             StructField('lat', FloatType(), True),\n",
        "                             StructField('line_id', StringType(), True),\n",
        "                             StructField('lon', FloatType(), True),\n",
        "                             StructField('pattern_id', StringType(), True),\n",
        "                             StructField('route_id', StringType(), True),\n",
        "                             StructField('schedule_relationship', StringType(), True),\n",
        "                             StructField('shift_id', StringType(), True),\n",
        "                             StructField('speed', FloatType(), True),\n",
        "                             StructField('stop_id', StringType(), True),\n",
        "                             StructField('timestamp', TimestampType(), True),\n",
        "                             StructField('trip_id', StringType(), True)])\n",
        "\n",
        "\n",
        "#readStreaming\n",
        "stream = spark.readStream.format(\"json\").schema(vehicle_schema).load(\"gs://edit-de-project-streaming-data/carris-vehicles\")"
      ],
      "metadata": {
        "id": "IQCjtB690VfK"
      },
      "execution_count": null,
      "outputs": []
    },
    {
      "cell_type": "code",
      "source": [
        "stream.isStreaming"
      ],
      "metadata": {
        "colab": {
          "base_uri": "https://localhost:8080/"
        },
        "id": "N9neYDUU7g3t",
        "outputId": "ec5fb8e2-3703-4a38-d4c7-9baec016779c"
      },
      "execution_count": null,
      "outputs": [
        {
          "output_type": "execute_result",
          "data": {
            "text/plain": [
              "True"
            ]
          },
          "metadata": {},
          "execution_count": 20
        }
      ]
    },
    {
      "cell_type": "code",
      "source": [
        "# watermark is necessary because of the aggregation\n",
        "transformed = stream.withWatermark(\"timestamp\", \"60 seconds\")\n",
        "\n"
      ],
      "metadata": {
        "id": "6zYpF7dRIDfk"
      },
      "execution_count": null,
      "outputs": []
    },
    {
      "cell_type": "code",
      "source": [
        "\n",
        "\n",
        "output_path=\"gs://edit-data-eng-project-group1/datalake/stream/vehicles_5\"\n",
        "\n",
        "# writeStreaming\n",
        "query = (stream\n",
        "        .writeStream\n",
        "        #.queryName('table')\n",
        "        .outputMode(\"append\")\n",
        "        #.foreachBatch(insert_vehicles)\n",
        "        .option(\"path\", output_path)\n",
        "        .option('checkpointLocation', 'gs://edit-data-eng-project-group1/datalake/stream/vehicles_5/checkpoint')\n",
        "        #.trigger(processingTime='5 seconds')\n",
        "        .start()\n",
        "\n",
        "        )\n",
        "\n",
        "query.awaitTermination(60)"
      ],
      "metadata": {
        "colab": {
          "base_uri": "https://localhost:8080/",
          "height": 492
        },
        "id": "hDn8R7UI7VdW",
        "outputId": "fabdcc1b-262b-4977-991b-810f05e90572"
      },
      "execution_count": null,
      "outputs": [
        {
          "output_type": "stream",
          "name": "stderr",
          "text": [
            "ERROR:root:KeyboardInterrupt while sending command.\n",
            "Traceback (most recent call last):\n",
            "  File \"/usr/local/lib/python3.10/dist-packages/py4j/java_gateway.py\", line 1038, in send_command\n",
            "    response = connection.send_command(command)\n",
            "  File \"/usr/local/lib/python3.10/dist-packages/py4j/clientserver.py\", line 511, in send_command\n",
            "    answer = smart_decode(self.stream.readline()[:-1])\n",
            "  File \"/usr/lib/python3.10/socket.py\", line 705, in readinto\n",
            "    return self._sock.recv_into(b)\n",
            "KeyboardInterrupt\n"
          ]
        },
        {
          "output_type": "error",
          "ename": "KeyboardInterrupt",
          "evalue": "",
          "traceback": [
            "\u001b[0;31m---------------------------------------------------------------------------\u001b[0m",
            "\u001b[0;31mKeyboardInterrupt\u001b[0m                         Traceback (most recent call last)",
            "\u001b[0;32m<ipython-input-22-f3bb61b02039>\u001b[0m in \u001b[0;36m<cell line: 22>\u001b[0;34m()\u001b[0m\n\u001b[1;32m     20\u001b[0m         )\n\u001b[1;32m     21\u001b[0m \u001b[0;34m\u001b[0m\u001b[0m\n\u001b[0;32m---> 22\u001b[0;31m \u001b[0mquery\u001b[0m\u001b[0;34m.\u001b[0m\u001b[0mawaitTermination\u001b[0m\u001b[0;34m(\u001b[0m\u001b[0;34m)\u001b[0m\u001b[0;34m\u001b[0m\u001b[0;34m\u001b[0m\u001b[0m\n\u001b[0m",
            "\u001b[0;32m/usr/local/lib/python3.10/dist-packages/pyspark/sql/streaming/query.py\u001b[0m in \u001b[0;36mawaitTermination\u001b[0;34m(self, timeout)\u001b[0m\n\u001b[1;32m    219\u001b[0m             \u001b[0;32mreturn\u001b[0m \u001b[0mself\u001b[0m\u001b[0;34m.\u001b[0m\u001b[0m_jsq\u001b[0m\u001b[0;34m.\u001b[0m\u001b[0mawaitTermination\u001b[0m\u001b[0;34m(\u001b[0m\u001b[0mint\u001b[0m\u001b[0;34m(\u001b[0m\u001b[0mtimeout\u001b[0m \u001b[0;34m*\u001b[0m \u001b[0;36m1000\u001b[0m\u001b[0;34m)\u001b[0m\u001b[0;34m)\u001b[0m\u001b[0;34m\u001b[0m\u001b[0;34m\u001b[0m\u001b[0m\n\u001b[1;32m    220\u001b[0m         \u001b[0;32melse\u001b[0m\u001b[0;34m:\u001b[0m\u001b[0;34m\u001b[0m\u001b[0;34m\u001b[0m\u001b[0m\n\u001b[0;32m--> 221\u001b[0;31m             \u001b[0;32mreturn\u001b[0m \u001b[0mself\u001b[0m\u001b[0;34m.\u001b[0m\u001b[0m_jsq\u001b[0m\u001b[0;34m.\u001b[0m\u001b[0mawaitTermination\u001b[0m\u001b[0;34m(\u001b[0m\u001b[0;34m)\u001b[0m\u001b[0;34m\u001b[0m\u001b[0;34m\u001b[0m\u001b[0m\n\u001b[0m\u001b[1;32m    222\u001b[0m \u001b[0;34m\u001b[0m\u001b[0m\n\u001b[1;32m    223\u001b[0m     \u001b[0;34m@\u001b[0m\u001b[0mproperty\u001b[0m\u001b[0;34m\u001b[0m\u001b[0;34m\u001b[0m\u001b[0m\n",
            "\u001b[0;32m/usr/local/lib/python3.10/dist-packages/py4j/java_gateway.py\u001b[0m in \u001b[0;36m__call__\u001b[0;34m(self, *args)\u001b[0m\n\u001b[1;32m   1319\u001b[0m             \u001b[0mproto\u001b[0m\u001b[0;34m.\u001b[0m\u001b[0mEND_COMMAND_PART\u001b[0m\u001b[0;34m\u001b[0m\u001b[0;34m\u001b[0m\u001b[0m\n\u001b[1;32m   1320\u001b[0m \u001b[0;34m\u001b[0m\u001b[0m\n\u001b[0;32m-> 1321\u001b[0;31m         \u001b[0manswer\u001b[0m \u001b[0;34m=\u001b[0m \u001b[0mself\u001b[0m\u001b[0;34m.\u001b[0m\u001b[0mgateway_client\u001b[0m\u001b[0;34m.\u001b[0m\u001b[0msend_command\u001b[0m\u001b[0;34m(\u001b[0m\u001b[0mcommand\u001b[0m\u001b[0;34m)\u001b[0m\u001b[0;34m\u001b[0m\u001b[0;34m\u001b[0m\u001b[0m\n\u001b[0m\u001b[1;32m   1322\u001b[0m         return_value = get_return_value(\n\u001b[1;32m   1323\u001b[0m             answer, self.gateway_client, self.target_id, self.name)\n",
            "\u001b[0;32m/usr/local/lib/python3.10/dist-packages/py4j/java_gateway.py\u001b[0m in \u001b[0;36msend_command\u001b[0;34m(self, command, retry, binary)\u001b[0m\n\u001b[1;32m   1036\u001b[0m         \u001b[0mconnection\u001b[0m \u001b[0;34m=\u001b[0m \u001b[0mself\u001b[0m\u001b[0;34m.\u001b[0m\u001b[0m_get_connection\u001b[0m\u001b[0;34m(\u001b[0m\u001b[0;34m)\u001b[0m\u001b[0;34m\u001b[0m\u001b[0;34m\u001b[0m\u001b[0m\n\u001b[1;32m   1037\u001b[0m         \u001b[0;32mtry\u001b[0m\u001b[0;34m:\u001b[0m\u001b[0;34m\u001b[0m\u001b[0;34m\u001b[0m\u001b[0m\n\u001b[0;32m-> 1038\u001b[0;31m             \u001b[0mresponse\u001b[0m \u001b[0;34m=\u001b[0m \u001b[0mconnection\u001b[0m\u001b[0;34m.\u001b[0m\u001b[0msend_command\u001b[0m\u001b[0;34m(\u001b[0m\u001b[0mcommand\u001b[0m\u001b[0;34m)\u001b[0m\u001b[0;34m\u001b[0m\u001b[0;34m\u001b[0m\u001b[0m\n\u001b[0m\u001b[1;32m   1039\u001b[0m             \u001b[0;32mif\u001b[0m \u001b[0mbinary\u001b[0m\u001b[0;34m:\u001b[0m\u001b[0;34m\u001b[0m\u001b[0;34m\u001b[0m\u001b[0m\n\u001b[1;32m   1040\u001b[0m                 \u001b[0;32mreturn\u001b[0m \u001b[0mresponse\u001b[0m\u001b[0;34m,\u001b[0m \u001b[0mself\u001b[0m\u001b[0;34m.\u001b[0m\u001b[0m_create_connection_guard\u001b[0m\u001b[0;34m(\u001b[0m\u001b[0mconnection\u001b[0m\u001b[0;34m)\u001b[0m\u001b[0;34m\u001b[0m\u001b[0;34m\u001b[0m\u001b[0m\n",
            "\u001b[0;32m/usr/local/lib/python3.10/dist-packages/py4j/clientserver.py\u001b[0m in \u001b[0;36msend_command\u001b[0;34m(self, command)\u001b[0m\n\u001b[1;32m    509\u001b[0m         \u001b[0;32mtry\u001b[0m\u001b[0;34m:\u001b[0m\u001b[0;34m\u001b[0m\u001b[0;34m\u001b[0m\u001b[0m\n\u001b[1;32m    510\u001b[0m             \u001b[0;32mwhile\u001b[0m \u001b[0;32mTrue\u001b[0m\u001b[0;34m:\u001b[0m\u001b[0;34m\u001b[0m\u001b[0;34m\u001b[0m\u001b[0m\n\u001b[0;32m--> 511\u001b[0;31m                 \u001b[0manswer\u001b[0m \u001b[0;34m=\u001b[0m \u001b[0msmart_decode\u001b[0m\u001b[0;34m(\u001b[0m\u001b[0mself\u001b[0m\u001b[0;34m.\u001b[0m\u001b[0mstream\u001b[0m\u001b[0;34m.\u001b[0m\u001b[0mreadline\u001b[0m\u001b[0;34m(\u001b[0m\u001b[0;34m)\u001b[0m\u001b[0;34m[\u001b[0m\u001b[0;34m:\u001b[0m\u001b[0;34m-\u001b[0m\u001b[0;36m1\u001b[0m\u001b[0;34m]\u001b[0m\u001b[0;34m)\u001b[0m\u001b[0;34m\u001b[0m\u001b[0;34m\u001b[0m\u001b[0m\n\u001b[0m\u001b[1;32m    512\u001b[0m                 \u001b[0mlogger\u001b[0m\u001b[0;34m.\u001b[0m\u001b[0mdebug\u001b[0m\u001b[0;34m(\u001b[0m\u001b[0;34m\"Answer received: {0}\"\u001b[0m\u001b[0;34m.\u001b[0m\u001b[0mformat\u001b[0m\u001b[0;34m(\u001b[0m\u001b[0manswer\u001b[0m\u001b[0;34m)\u001b[0m\u001b[0;34m)\u001b[0m\u001b[0;34m\u001b[0m\u001b[0;34m\u001b[0m\u001b[0m\n\u001b[1;32m    513\u001b[0m                 \u001b[0;31m# Happens when a the other end is dead. There might be an empty\u001b[0m\u001b[0;34m\u001b[0m\u001b[0;34m\u001b[0m\u001b[0m\n",
            "\u001b[0;32m/usr/lib/python3.10/socket.py\u001b[0m in \u001b[0;36mreadinto\u001b[0;34m(self, b)\u001b[0m\n\u001b[1;32m    703\u001b[0m         \u001b[0;32mwhile\u001b[0m \u001b[0;32mTrue\u001b[0m\u001b[0;34m:\u001b[0m\u001b[0;34m\u001b[0m\u001b[0;34m\u001b[0m\u001b[0m\n\u001b[1;32m    704\u001b[0m             \u001b[0;32mtry\u001b[0m\u001b[0;34m:\u001b[0m\u001b[0;34m\u001b[0m\u001b[0;34m\u001b[0m\u001b[0m\n\u001b[0;32m--> 705\u001b[0;31m                 \u001b[0;32mreturn\u001b[0m \u001b[0mself\u001b[0m\u001b[0;34m.\u001b[0m\u001b[0m_sock\u001b[0m\u001b[0;34m.\u001b[0m\u001b[0mrecv_into\u001b[0m\u001b[0;34m(\u001b[0m\u001b[0mb\u001b[0m\u001b[0;34m)\u001b[0m\u001b[0;34m\u001b[0m\u001b[0;34m\u001b[0m\u001b[0m\n\u001b[0m\u001b[1;32m    706\u001b[0m             \u001b[0;32mexcept\u001b[0m \u001b[0mtimeout\u001b[0m\u001b[0;34m:\u001b[0m\u001b[0;34m\u001b[0m\u001b[0;34m\u001b[0m\u001b[0m\n\u001b[1;32m    707\u001b[0m                 \u001b[0mself\u001b[0m\u001b[0;34m.\u001b[0m\u001b[0m_timeout_occurred\u001b[0m \u001b[0;34m=\u001b[0m \u001b[0;32mTrue\u001b[0m\u001b[0;34m\u001b[0m\u001b[0;34m\u001b[0m\u001b[0m\n",
            "\u001b[0;31mKeyboardInterrupt\u001b[0m: "
          ]
        }
      ]
    },
    {
      "cell_type": "code",
      "source": [
        "query.status"
      ],
      "metadata": {
        "colab": {
          "base_uri": "https://localhost:8080/"
        },
        "id": "Yc1enbxz7jb_",
        "outputId": "6cf7b678-b8b5-43fa-898c-55adaa04fb36"
      },
      "execution_count": null,
      "outputs": [
        {
          "output_type": "execute_result",
          "data": {
            "text/plain": [
              "{'message': 'Processing new data',\n",
              " 'isDataAvailable': True,\n",
              " 'isTriggerActive': True}"
            ]
          },
          "metadata": {},
          "execution_count": 23
        }
      ]
    },
    {
      "cell_type": "code",
      "source": [
        "query.isActive"
      ],
      "metadata": {
        "colab": {
          "base_uri": "https://localhost:8080/"
        },
        "id": "f5l6ZgAL7lv-",
        "outputId": "6343f54d-57b2-4519-ba96-e84a1223a8da"
      },
      "execution_count": null,
      "outputs": [
        {
          "output_type": "execute_result",
          "data": {
            "text/plain": [
              "True"
            ]
          },
          "metadata": {},
          "execution_count": 24
        }
      ]
    },
    {
      "cell_type": "code",
      "source": [
        "query.stop()"
      ],
      "metadata": {
        "id": "2VzNk8pW8aNY"
      },
      "execution_count": null,
      "outputs": []
    },
    {
      "cell_type": "code",
      "source": [],
      "metadata": {
        "colab": {
          "base_uri": "https://localhost:8080/"
        },
        "id": "a2WnCJDWGG-g",
        "outputId": "76ec3b9a-ea72-4d25-c41b-3e507e59d092"
      },
      "execution_count": null,
      "outputs": [
        {
          "output_type": "execute_result",
          "data": {
            "text/plain": [
              "<pyspark.sql.streaming.query.StreamingQuery at 0x7e85ea25feb0>"
            ]
          },
          "metadata": {},
          "execution_count": 18
        }
      ]
    },
    {
      "cell_type": "code",
      "source": [
        "# Define the path to the Parquet files\n",
        "parquet_path = \"gs://edit-data-eng-project-group1/datalake/stream/vehicles_3\"\n",
        "\n",
        "# Read the Parquet files into a DataFrame\n",
        "parquet_df = spark.read.parquet(parquet_path)\n",
        "\n",
        "# Show the first few rows\n",
        "parquet_df.show(truncate=False)\n",
        "\n",
        "# Print the schema to understand the data structure\n",
        "parquet_df.printSchema()\n",
        "\n",
        "# Perform some analysis or transformations (example: count rows)\n",
        "#row_count = parquet_df.count()\n",
        "#print(f\"Number of rows: {row_count}\")\n",
        "\n",
        "# Example transformation: filter rows based on a condition\n",
        "#filtered_df = parquet_df.filter(parquet_df.speed > 50)\n",
        "\n",
        "# Show the filtered data\n",
        "#filtered_df.show()"
      ],
      "metadata": {
        "colab": {
          "base_uri": "https://localhost:8080/"
        },
        "id": "NPbjFFE7GKlO",
        "outputId": "7c4fc6c3-a919-41e4-e90f-c0d7b1ddbb93"
      },
      "execution_count": null,
      "outputs": [
        {
          "output_type": "stream",
          "name": "stdout",
          "text": [
            "+-------+------------------------------+--------------+--------+---------+-------+---------+----------+--------+---------------------+------------+---------+-------+-------------------+---------------------------------+\n",
            "|bearing|block_id                      |current_status|id      |lat      |line_id|lon      |pattern_id|route_id|schedule_relationship|shift_id    |speed    |stop_id|timestamp          |trip_id                          |\n",
            "+-------+------------------------------+--------------+--------+---------+-------+---------+----------+--------+---------------------+------------+---------+-------+-------------------+---------------------------------+\n",
            "|90     |20250103-64410390-223440234560|INCOMING_AT   |44|12697|38.70689 |4704   |-8.962685|4704_0_1  |4704_0  |SCHEDULED            |223440234560|13.333333|100398 |2025-01-03 18:36:13|4704_0_1|1400|1815_AEMLZ         |\n",
            "|67     |20250103-64410147-223240234560|IN_TRANSIT_TO |44|12655|38.684013|4701   |-8.952688|4701_0_2  |4701_0  |SCHEDULED            |223240234560|12.222222|060005 |2025-01-03 18:36:18|4701_0_2|1400|1800_AEMLZ         |\n",
            "|180    |20250103-64410145-221420234560|INCOMING_AT   |44|12069|38.72529 |4512   |-8.97277 |4512_0_1  |4512_0  |SCHEDULED            |221420234560|13.333333|100341 |2025-01-03 18:36:17|4512_0_1|1400|1810_AEMLZ         |\n",
            "|96     |20250103-64410275-213300234560|INCOMING_AT   |44|12660|38.570324|4710   |-8.905845|4710_0_1  |4710_0  |SCHEDULED            |213300234560|5.2777777|130803 |2025-01-03 18:35:36|4710_0_1|1400|1745_AEMLZ         |\n",
            "|221    |20250103-64410226-223390234560|IN_TRANSIT_TO |44|12743|38.65576 |4701   |-9.012577|4701_0_1  |4701_0  |SCHEDULED            |223390234560|9.722222 |090003 |2025-01-03 18:36:05|4701_0_1|1400|1750_AEMLZ         |\n",
            "|98     |20250103-64410425-213210234560|IN_TRANSIT_TO |44|12676|38.78537 |4720   |-9.084168|4720_0_1  |4720_0  |SCHEDULED            |213210234560|25.0     |160027 |2025-01-03 18:36:05|4720_0_1|1400|1830_AEMLZ         |\n",
            "|154    |20250103-64410092-221270234560|IN_TRANSIT_TO |44|12536|38.55457 |4612   |-8.985672|4612_0_1  |4612_0  |SCHEDULED            |221270234560|9.722222 |130441 |2025-01-03 18:36:05|4612_0_1|1400|1805_AEMLZ         |\n",
            "|159    |20250103-64410209-213290234560|IN_TRANSIT_TO |44|12674|38.696587|4720   |-8.902195|4720_0_1  |4720_0  |SCHEDULED            |213290234560|28.055555|160027 |2025-01-03 18:36:05|4720_0_1|1400|1810_AEMLZ         |\n",
            "|8      |20250103-64410026-212330234560|IN_TRANSIT_TO |44|12095|38.54103 |4422   |-8.885283|4422_0_2  |4422_0  |SCHEDULED            |212330234560|2.5      |160419 |2025-01-03 18:36:06|4422_0_2|1400|1800_AEMLZ         |\n",
            "|77     |20250103-64410285-221770234560|IN_TRANSIT_TO |44|12512|38.656086|4604   |-9.061685|4604_0_1  |4604_0  |SCHEDULED            |221770234560|8.055555 |040006 |2025-01-03 18:36:14|4604_0_1|1400|1820_AEMLZ         |\n",
            "|358    |20250103-64410269-212670234560|IN_TRANSIT_TO |44|12607|38.529797|4409   |-8.87047 |4409_0_1  |4409_0  |SCHEDULED            |212670234560|0.0      |160239 |2025-01-03 18:36:10|4409_0_1|1400|1830_AEMLZ         |\n",
            "|202    |20250103-64410192-221550234560|IN_TRANSIT_TO |44|12517|38.66232 |4521   |-8.767689|4521_0_2  |4521_0  |SCHEDULED            |221550234560|12.222222|130521 |2025-01-03 18:36:04|4521_0_2|1400|1740_AEMLZ         |\n",
            "|194    |20250103-64410094-213320234560|IN_TRANSIT_TO |44|12679|38.534706|4720   |-8.87534 |4720_0_1  |4720_0  |SCHEDULED            |213320234560|11.944445|160027 |2025-01-03 18:36:03|4720_0_1|1400|1800_AEMLZ         |\n",
            "|256    |20250103-64410251-221670234560|STOPPED_AT    |44|12528|38.706333|4600   |-8.97412 |4600_1_1  |4600_1  |SCHEDULED            |221670234560|0.0      |100015 |2025-01-03 18:36:14|4600_1_1|1400|1815_AEMLZ         |\n",
            "|252    |20250103-64410183-211240234560|IN_TRANSIT_TO |44|12519|38.55554 |4435   |-8.796585|4435_0_1  |4435_0  |SCHEDULED            |211240234560|13.055555|160653 |2025-01-03 18:36:04|4435_0_1|1400|1830_AEMLZ         |\n",
            "|57     |FER_DU_FU1068                 |IN_TRANSIT_TO |43|2347 |38.629623|3715   |-9.151689|3715_0_2  |3715_0  |SCHEDULED            |FU1098      |8.888889 |140641 |2025-01-03 18:36:02|3715_0_2_1800_1829_0_FER_DU_UYRQQ|\n",
            "|353    |20250103-64410182-223490234560|IN_TRANSIT_TO |44|13597|38.781563|4705   |-9.10494 |4705_0_1  |4705_0  |SCHEDULED            |223490234560|11.666667|100042 |2025-01-03 18:36:10|4705_0_1|1400|1830_AEMLZ         |\n",
            "|191    |20250103-64410454-223330234560|IN_TRANSIT_TO |44|12709|38.705845|4707   |-8.940006|4707_0_1  |4707_0  |SCHEDULED            |223330234560|2.2222223|100042 |2025-01-03 18:36:06|4707_0_1|1400|1810_AEMLZ         |\n",
            "|210    |4_4031-12                     |INCOMING_AT   |41|1177 |38.76079 |1011   |-9.204131|1011_1_3  |1011_1  |SCHEDULED            |4031        |6.9444447|030399 |2025-01-03 18:36:09|1011_C_1_3_1800_1829_0_4_MPLKH   |\n",
            "|345    |20250103-64410097-221280234560|INCOMING_AT   |44|13600|38.722637|4600   |-9.001438|4600_0_2  |4600_0  |SCHEDULED            |221280234560|11.944445|010178 |2025-01-03 18:36:09|4600_0_2|1400|1700_AEMLZ         |\n",
            "+-------+------------------------------+--------------+--------+---------+-------+---------+----------+--------+---------------------+------------+---------+-------+-------------------+---------------------------------+\n",
            "only showing top 20 rows\n",
            "\n",
            "root\n",
            " |-- bearing: integer (nullable = true)\n",
            " |-- block_id: string (nullable = true)\n",
            " |-- current_status: string (nullable = true)\n",
            " |-- id: string (nullable = true)\n",
            " |-- lat: float (nullable = true)\n",
            " |-- line_id: string (nullable = true)\n",
            " |-- lon: float (nullable = true)\n",
            " |-- pattern_id: string (nullable = true)\n",
            " |-- route_id: string (nullable = true)\n",
            " |-- schedule_relationship: string (nullable = true)\n",
            " |-- shift_id: string (nullable = true)\n",
            " |-- speed: float (nullable = true)\n",
            " |-- stop_id: string (nullable = true)\n",
            " |-- timestamp: timestamp (nullable = true)\n",
            " |-- trip_id: string (nullable = true)\n",
            "\n"
          ]
        }
      ]
    },
    {
      "cell_type": "markdown",
      "source": [],
      "metadata": {
        "id": "PmwPNAcC4tm6"
      }
    },
    {
      "cell_type": "code",
      "source": [
        "from pyspark.sql.functions import lag , col, coalesce\n",
        "from pyspark.sql.window import Window\n",
        "from pyspark.sql.functions import udf\n",
        "from pyspark.sql.types import FloatType\n",
        "import math\n",
        "\n",
        "# Define a window specification\n",
        "windowSpec = Window.partitionBy(\"id\").orderBy(\"timestamp\")\n",
        "\n",
        "#select columns\n",
        "transform = parquet_df.select('id', 'speed', 'timestamp','line_id','route_id','stop_id','lat', 'lon')\n",
        "\n",
        "# Create a new column 'previous_value' using lag\n",
        "transform = transform.withColumn(\"previous_lat\", coalesce(lag(\"lat\", 1).over(windowSpec), col('lat')))\n",
        "transform = transform.withColumn(\"previous_lon\", coalesce(lag(\"lon\", 1).over(windowSpec), col('lon')))\n",
        "\n",
        "df_stops = spark.read.option(\"header\", \"true\").csv('gs://edit-data-eng-project-group1/LandingZone/GTFS/stops.txt')\n",
        "df_stops = df_stops.select('stop_id','stop_lat','stop_lon')\n",
        "df_stops = df_stops.withColumn(\"stop_lat\", df_stops[\"stop_lat\"].cast(\"float\"))\n",
        "df_stops = df_stops.withColumn(\"stop_lon\", df_stops[\"stop_lon\"].cast(\"float\"))\n",
        "# Show the first few rows\n",
        "transform = transform.join(df_stops, on='stop_id', how='left')\n",
        "\n",
        "\n",
        "def haversine_distance(lat1, lon1, lat2, lon2):\n",
        "\n",
        "    if any(x is None for x in [lat1, lon1, lat2, lon2]):\n",
        "        return 0.0\n",
        "    R = 6371  # Earth's radius in kilometers\n",
        "\n",
        "    # Convert latitude and longitude to radians\n",
        "    lat1, lon1, lat2, lon2 = map(math.radians, [lat1, lon1, lat2, lon2])\n",
        "\n",
        "    # Calculate differences\n",
        "    dlat = lat2 - lat1\n",
        "    dlon = lon2 - lon1\n",
        "\n",
        "    # Apply Haversine formula\n",
        "    a = math.sin(dlat/2)**2 + math.cos(lat1) * math.cos(lat2) * math.sin(dlon/2)**2\n",
        "    c = 2 * math.asin(math.sqrt(a))\n",
        "\n",
        "    # Calculate distance\n",
        "    distance = R * c\n",
        "\n",
        "    return distance\n",
        "\n",
        "# Register the UDF\n",
        "distance_udf = udf(haversine_distance, FloatType())\n",
        "\n",
        "transform = transform.withColumn(\"distance\", distance_udf(transform[\"previous_lat\"],transform[\"previous_lon\"],transform[\"lat\"],transform[\"lon\"]))\n",
        "transform = transform.withColumn(\"distance_to_stop\", distance_udf(transform[\"lat\"],transform[\"lon\"],transform[\"stop_lat\"],transform[\"stop_lon\"]))\n",
        "\n",
        "# cache in memory\n",
        "#transform.cache()\n",
        "\n",
        "transform.show()"
      ],
      "metadata": {
        "colab": {
          "base_uri": "https://localhost:8080/"
        },
        "id": "SZyhTfrV2Fj-",
        "outputId": "7e583ef3-ab56-4034-fcf2-d9fa8af6b6a9"
      },
      "execution_count": null,
      "outputs": [
        {
          "output_type": "stream",
          "name": "stdout",
          "text": [
            "+-------+-------+---------+-------------------+-------+--------+---------+---------+------------+------------+---------+---------+------------+----------------+\n",
            "|stop_id|     id|    speed|          timestamp|line_id|route_id|      lat|      lon|previous_lat|previous_lon| stop_lat| stop_lon|    distance|distance_to_stop|\n",
            "+-------+-------+---------+-------------------+-------+--------+---------+---------+------------+------------+---------+---------+------------+----------------+\n",
            "| 030785|41|1100|     15.0|2025-01-03 18:35:39|   1716|  1716_0| 38.72486|  -9.1829|    38.72486|     -9.1829|38.728104|-9.216909|         0.0|       2.9721527|\n",
            "| 030785|41|1100|11.944445|2025-01-03 18:36:31|   1716|  1716_0| 38.72566|-9.191012|    38.72486|     -9.1829|38.728104|-9.216909|   0.7092681|       2.2628906|\n",
            "| 030785|41|1100|15.833333|2025-01-03 18:36:49|   1716|  1716_0|38.725082|-9.193826|    38.72566|   -9.191012|38.728104|-9.216909|   0.2523195|       2.0304399|\n",
            "| 030785|41|1100|4.4444447|2025-01-03 18:37:27|   1716|  1716_0| 38.72312|-9.199276|   38.725082|   -9.193826|38.728104|-9.216909|   0.5206602|       1.6269007|\n",
            "| 030785|41|1100|4.4444447|2025-01-03 18:37:27|   1716|  1716_0| 38.72312|-9.199276|    38.72312|   -9.199276|38.728104|-9.216909|         0.0|       1.6269007|\n",
            "| 030785|41|1100|7.2222223|2025-01-03 18:38:19|   1716|  1716_0|38.722298|-9.201559|    38.72312|   -9.199276|38.728104|-9.216909|  0.21822897|       1.4798766|\n",
            "| 030785|41|1100| 8.333333|2025-01-03 18:39:08|   1716|  1716_0|38.721363|-9.204338|   38.722298|   -9.201559|38.728104|-9.216909|  0.26253292|       1.3232918|\n",
            "| 030785|41|1100| 8.333333|2025-01-03 18:39:08|   1716|  1716_0|38.721363|-9.204338|   38.721363|   -9.204338|38.728104|-9.216909|         0.0|       1.3232918|\n",
            "| 030785|41|1100|14.722222|2025-01-03 18:39:50|   1716|  1716_0|38.721592|-9.209864|   38.721363|   -9.204338|38.728104|-9.216909|  0.48004118|       0.9475539|\n",
            "| 030785|41|1100|12.222222|2025-01-03 18:40:12|   1716|  1716_0|38.723698|-9.211939|   38.721592|   -9.209864|38.728104|-9.216909|  0.29535377|       0.6526457|\n",
            "| 030785|41|1100|12.222222|2025-01-03 18:40:33|   1716|  1716_0|38.723698|-9.211939|   38.723698|   -9.211939|38.728104|-9.216909|         0.0|       0.6526457|\n",
            "| 030785|41|1100|6.9444447|2025-01-03 18:41:24|   1716|  1716_0| 38.72757|-9.212579|   38.723698|   -9.211939|38.728104|-9.216909|   0.4341016|       0.3803305|\n",
            "| 030785|41|1100|1.9444444|2025-01-03 18:42:23|   1716|  1716_0|38.727955|-9.216708|    38.72757|   -9.212579|38.728104|-9.216909|  0.36076343|      0.02404908|\n",
            "| 030785|41|1100|0.2777778|2025-01-03 18:42:25|   1716|  1716_0| 38.72813|-9.216899|   38.727955|   -9.216708|38.728104|-9.216909| 0.025582656|    0.0031055426|\n",
            "| 030785|41|1100|0.8333333|2025-01-03 18:43:09|   1716|  1716_0|38.728134|-9.216944|    38.72813|   -9.216899|38.728104|-9.216909|0.0039112475|     0.004514944|\n",
            "| 030787|41|1100|4.4444447|2025-01-03 18:43:25|   1716|  1716_0|38.728325|-9.217234|   38.728134|   -9.216944|38.732277|-9.222512|   0.0328981|       0.6346395|\n",
            "| 030787|41|1100|      0.0|2025-01-03 18:44:23|   1716|  1716_0|38.732315|-9.222497|   38.728325|   -9.217234|38.732277|-9.222512|    0.636634|      0.00444345|\n",
            "| 030787|41|1100|      0.0|2025-01-03 18:44:54|   1716|  1716_0|  38.7323|-9.222525|   38.732315|   -9.222497|38.732277|-9.222512|0.0029383234|    0.0027629232|\n",
            "| 030533|41|1100| 8.611111|2025-01-03 18:45:05|   1716|  1716_0|38.732407|-9.222666|     38.7323|   -9.222525| 38.73786|-9.228173| 0.017057238|       0.7720928|\n",
            "| 030533|41|1100|14.166667|2025-01-03 18:45:21|   1716|  1716_0|38.733704|-9.224296|   38.732407|   -9.222666| 38.73786|-9.228173|  0.20195305|      0.57174116|\n",
            "+-------+-------+---------+-------------------+-------+--------+---------+---------+------------+------------+---------+---------+------------+----------------+\n",
            "only showing top 20 rows\n",
            "\n"
          ]
        }
      ]
    },
    {
      "cell_type": "code",
      "source": [],
      "metadata": {
        "id": "zScgXa5SMNwL"
      },
      "execution_count": null,
      "outputs": []
    },
    {
      "cell_type": "code",
      "source": [
        "transform.printSchema()"
      ],
      "metadata": {
        "colab": {
          "base_uri": "https://localhost:8080/"
        },
        "id": "ZHMcnk2ADE-l",
        "outputId": "52ccf7e0-91c7-4475-c7c5-6b649e6554ce"
      },
      "execution_count": null,
      "outputs": [
        {
          "output_type": "stream",
          "name": "stdout",
          "text": [
            "root\n",
            " |-- stop_id: string (nullable = true)\n",
            " |-- id: string (nullable = true)\n",
            " |-- speed: float (nullable = true)\n",
            " |-- timestamp: timestamp (nullable = true)\n",
            " |-- line_id: string (nullable = true)\n",
            " |-- route_id: string (nullable = true)\n",
            " |-- lat: float (nullable = true)\n",
            " |-- lon: float (nullable = true)\n",
            " |-- previous_lat: float (nullable = true)\n",
            " |-- previous_lon: float (nullable = true)\n",
            " |-- stop_lat: float (nullable = true)\n",
            " |-- stop_lon: float (nullable = true)\n",
            " |-- distance: float (nullable = true)\n",
            " |-- distance_to_stop: float (nullable = true)\n",
            "\n"
          ]
        }
      ]
    },
    {
      "cell_type": "code",
      "source": [
        "transform.show()"
      ],
      "metadata": {
        "id": "xVPnM-jtTsFy",
        "outputId": "cddd13df-bbba-4de6-9263-fba95e94d87d",
        "colab": {
          "base_uri": "https://localhost:8080/"
        }
      },
      "execution_count": null,
      "outputs": [
        {
          "output_type": "stream",
          "name": "stdout",
          "text": [
            "+-------+-------+---------+-------------------+---------+---------+------------+------------+---------+---------+------------+----------------+\n",
            "|stop_id|     id|    speed|          timestamp|      lat|      lon|previous_lat|previous_lon| stop_lat| stop_lon|    distance|distance_to_stop|\n",
            "+-------+-------+---------+-------------------+---------+---------+------------+------------+---------+---------+------------+----------------+\n",
            "| 030785|41|1100|     15.0|2025-01-03 18:35:39| 38.72486|  -9.1829|    38.72486|     -9.1829|38.728104|-9.216909|         0.0|       2.9721527|\n",
            "| 030785|41|1100|11.944445|2025-01-03 18:36:31| 38.72566|-9.191012|    38.72486|     -9.1829|38.728104|-9.216909|   0.7092681|       2.2628906|\n",
            "| 030785|41|1100|15.833333|2025-01-03 18:36:49|38.725082|-9.193826|    38.72566|   -9.191012|38.728104|-9.216909|   0.2523195|       2.0304399|\n",
            "| 030785|41|1100|4.4444447|2025-01-03 18:37:27| 38.72312|-9.199276|   38.725082|   -9.193826|38.728104|-9.216909|   0.5206602|       1.6269007|\n",
            "| 030785|41|1100|4.4444447|2025-01-03 18:37:27| 38.72312|-9.199276|    38.72312|   -9.199276|38.728104|-9.216909|         0.0|       1.6269007|\n",
            "| 030785|41|1100|7.2222223|2025-01-03 18:38:19|38.722298|-9.201559|    38.72312|   -9.199276|38.728104|-9.216909|  0.21822897|       1.4798766|\n",
            "| 030785|41|1100| 8.333333|2025-01-03 18:39:08|38.721363|-9.204338|   38.722298|   -9.201559|38.728104|-9.216909|  0.26253292|       1.3232918|\n",
            "| 030785|41|1100| 8.333333|2025-01-03 18:39:08|38.721363|-9.204338|   38.721363|   -9.204338|38.728104|-9.216909|         0.0|       1.3232918|\n",
            "| 030785|41|1100|14.722222|2025-01-03 18:39:50|38.721592|-9.209864|   38.721363|   -9.204338|38.728104|-9.216909|  0.48004118|       0.9475539|\n",
            "| 030785|41|1100|12.222222|2025-01-03 18:40:12|38.723698|-9.211939|   38.721592|   -9.209864|38.728104|-9.216909|  0.29535377|       0.6526457|\n",
            "| 030785|41|1100|12.222222|2025-01-03 18:40:33|38.723698|-9.211939|   38.723698|   -9.211939|38.728104|-9.216909|         0.0|       0.6526457|\n",
            "| 030785|41|1100|6.9444447|2025-01-03 18:41:24| 38.72757|-9.212579|   38.723698|   -9.211939|38.728104|-9.216909|   0.4341016|       0.3803305|\n",
            "| 030785|41|1100|1.9444444|2025-01-03 18:42:23|38.727955|-9.216708|    38.72757|   -9.212579|38.728104|-9.216909|  0.36076343|      0.02404908|\n",
            "| 030785|41|1100|0.2777778|2025-01-03 18:42:25| 38.72813|-9.216899|   38.727955|   -9.216708|38.728104|-9.216909| 0.025582656|    0.0031055426|\n",
            "| 030785|41|1100|0.8333333|2025-01-03 18:43:09|38.728134|-9.216944|    38.72813|   -9.216899|38.728104|-9.216909|0.0039112475|     0.004514944|\n",
            "| 030787|41|1100|4.4444447|2025-01-03 18:43:25|38.728325|-9.217234|   38.728134|   -9.216944|38.732277|-9.222512|   0.0328981|       0.6346395|\n",
            "| 030787|41|1100|      0.0|2025-01-03 18:44:23|38.732315|-9.222497|   38.728325|   -9.217234|38.732277|-9.222512|    0.636634|      0.00444345|\n",
            "| 030787|41|1100|      0.0|2025-01-03 18:44:54|  38.7323|-9.222525|   38.732315|   -9.222497|38.732277|-9.222512|0.0029383234|    0.0027629232|\n",
            "| 030533|41|1100| 8.611111|2025-01-03 18:45:05|38.732407|-9.222666|     38.7323|   -9.222525| 38.73786|-9.228173| 0.017057238|       0.7720928|\n",
            "| 030533|41|1100|14.166667|2025-01-03 18:45:21|38.733704|-9.224296|   38.732407|   -9.222666| 38.73786|-9.228173|  0.20195305|      0.57174116|\n",
            "+-------+-------+---------+-------------------+---------+---------+------------+------------+---------+---------+------------+----------------+\n",
            "only showing top 20 rows\n",
            "\n"
          ]
        }
      ]
    },
    {
      "cell_type": "code",
      "source": [],
      "metadata": {
        "id": "NozNzFpoI_bn"
      },
      "execution_count": null,
      "outputs": []
    },
    {
      "cell_type": "code",
      "source": [
        "import pyspark.sql.functions as F\n",
        "\n",
        "\n",
        "agg = transform.groupBy(\"id\", \"stop_id\", F.window(\"timestamp\", \"2 minutes\")).agg(\n",
        "    F.sum('distance').alias(\"distance_2_min\"),\n",
        "    F.last('distance_to_stop').alias('distance_to_stop')\n",
        "    )\n",
        "\n",
        "agg = agg.withColumn('speed', col('distance_2_min')/(2/60))\n",
        "\n",
        "agg = agg.filter(agg.distance_to_stop.isNotNull() & (agg.distance_to_stop > 0) & (agg.speed.isNotNull()) & (agg.speed > 0)) \\\n",
        "         .withColumn('time_to_stop', (col('distance_to_stop')/col('speed') * 3600))\n",
        "\n",
        "agg = agg.withColumn(\n",
        "    'time_to_stop',\n",
        "    F.from_unixtime(\n",
        "        F.unix_timestamp(F.lit('00:00:00'), 'HH:mm:ss') + col('time_to_stop'),\n",
        "        'HH:mm:ss'\n",
        "    )\n",
        ")\n",
        "\n",
        "\n",
        "agg.show()"
      ],
      "metadata": {
        "colab": {
          "base_uri": "https://localhost:8080/"
        },
        "id": "Q9M7e7N_Cs2y",
        "outputId": "889f66c0-9a4a-4147-b9f8-19927c2b5314"
      },
      "execution_count": null,
      "outputs": [
        {
          "output_type": "stream",
          "name": "stdout",
          "text": [
            "+-------+-------+--------------------+--------------------+----------------+------------------+------------+\n",
            "|     id|stop_id|              window|      distance_2_min|distance_to_stop|             speed|time_to_stop|\n",
            "+-------+-------+--------------------+--------------------+----------------+------------------+------------+\n",
            "|41|1104| 120083|{2025-01-03 19:26...|0.051517192274332047|       0.2787009|1.5455157682299614|    00:10:49|\n",
            "|41|1109| 060041|{2025-01-03 20:52...|  0.4222240149974823|    0.0031869775|12.666720449924469|    00:00:00|\n",
            "|41|1109| 120533|{2025-01-04 00:02...|  0.0678267776966095|      0.41164023| 2.034803330898285|    00:12:08|\n",
            "|41|1109| 121099|{2025-01-04 01:00...| 0.04669193550944328|       1.0875545|1.4007580652832985|    00:46:35|\n",
            "|41|1114| 120157|{2025-01-03 20:48...| 0.43597667291760445|     0.007636943|13.079300187528133|    00:00:02|\n",
            "|41|1114| 121059|{2025-01-03 20:52...|  0.4232720732688904|    0.0060717873|12.698162198066711|    00:00:01|\n",
            "|41|1114| 121298|{2025-01-03 21:14...|  0.7600761950016022|       0.3641889|22.802285850048065|    00:00:57|\n",
            "|41|1117| 120923|{2025-01-03 23:08...|  0.4317595735192299|     0.069170356|12.952787205576897|    00:00:19|\n",
            "|41|1127| 120315|{2025-01-03 19:52...|  0.5643651038408279|      0.13594572| 16.93095311522484|    00:00:28|\n",
            "|41|1132| 030459|{2025-01-03 21:10...| 0.17437878251075745|     0.051369462| 5.231363475322723|    00:00:35|\n",
            "|41|1132| 030458|{2025-01-03 21:12...|  0.2954575642943382|      0.42232755| 8.863726928830147|    00:02:51|\n",
            "|41|1133| 030191|{2025-01-03 19:36...|  0.6019816547632217|    0.0106586935|18.059449642896652|    00:00:02|\n",
            "|41|1145| 120771|{2025-01-03 19:46...|0.036404624581336975|      0.25560707|1.0921387374401093|    00:14:02|\n",
            "|41|1147| 120999|{2025-01-03 19:26...| 0.49298734962940216|    0.0080699315|14.789620488882065|    00:00:01|\n",
            "|41|1147| 170776|{2025-01-03 22:24...|  0.6530161201953888|    0.0034408334|19.590483605861664|    00:00:00|\n",
            "|41|1147| 120932|{2025-01-03 23:12...| 0.46141254901885986|      0.08896582|13.842376470565796|    00:00:23|\n",
            "|41|1147| 121110|{2025-01-04 00:04...|0.044979244470596313|      0.20493504|1.3493773341178894|    00:09:06|\n",
            "|41|1147| 121108|{2025-01-04 00:04...|  0.2378775179386139|      0.24784148| 7.136325538158417|    00:02:05|\n",
            "|41|1148| 170901|{2025-01-03 18:38...| 0.11540468782186508|      0.20654137|3.4621406346559525|    00:03:34|\n",
            "|41|1149| 030479|{2025-01-03 18:54...|  0.1379062980413437|      0.10283893| 4.137188941240311|    00:01:29|\n",
            "+-------+-------+--------------------+--------------------+----------------+------------------+------------+\n",
            "only showing top 20 rows\n",
            "\n"
          ]
        }
      ]
    }
  ]
}